{
 "cells": [
  {
   "cell_type": "code",
   "execution_count": 4,
   "metadata": {},
   "outputs": [],
   "source": [
    "import pandas as pd\n",
    "import os\n"
   ]
  },
  {
   "cell_type": "code",
   "execution_count": 5,
   "metadata": {},
   "outputs": [
    {
     "data": {
      "text/plain": [
       "['.~lock.properties_2016.csv#',\n",
       " 'train_2017.csv',\n",
       " 'sample_submission.csv',\n",
       " 'properties_2016.csv',\n",
       " 'properties_2017.csv',\n",
       " 'train_2016_v2.csv',\n",
       " 'zillow_data_dictionary.xlsx']"
      ]
     },
     "execution_count": 5,
     "metadata": {},
     "output_type": "execute_result"
    }
   ],
   "source": [
    "data_dir = \"../data/Zillow\"\n",
    "os.listdir(data_dir)"
   ]
  },
  {
   "cell_type": "markdown",
   "metadata": {},
   "source": [
    "# Read csv file"
   ]
  },
  {
   "cell_type": "markdown",
   "metadata": {},
   "source": [
    "## 2016"
   ]
  },
  {
   "cell_type": "code",
   "execution_count": 10,
   "metadata": {},
   "outputs": [
    {
     "data": {
      "text/html": [
       "<div>\n",
       "<style scoped>\n",
       "    .dataframe tbody tr th:only-of-type {\n",
       "        vertical-align: middle;\n",
       "    }\n",
       "\n",
       "    .dataframe tbody tr th {\n",
       "        vertical-align: top;\n",
       "    }\n",
       "\n",
       "    .dataframe thead th {\n",
       "        text-align: right;\n",
       "    }\n",
       "</style>\n",
       "<table border=\"1\" class=\"dataframe\">\n",
       "  <thead>\n",
       "    <tr style=\"text-align: right;\">\n",
       "      <th></th>\n",
       "      <th>parcelid</th>\n",
       "      <th>latitude</th>\n",
       "      <th>longitude</th>\n",
       "    </tr>\n",
       "  </thead>\n",
       "  <tbody>\n",
       "    <tr>\n",
       "      <th>0</th>\n",
       "      <td>10754147</td>\n",
       "      <td>34.144442</td>\n",
       "      <td>-118.654084</td>\n",
       "    </tr>\n",
       "    <tr>\n",
       "      <th>1</th>\n",
       "      <td>10759547</td>\n",
       "      <td>34.140430</td>\n",
       "      <td>-118.625364</td>\n",
       "    </tr>\n",
       "    <tr>\n",
       "      <th>2</th>\n",
       "      <td>10843547</td>\n",
       "      <td>33.989359</td>\n",
       "      <td>-118.394633</td>\n",
       "    </tr>\n",
       "    <tr>\n",
       "      <th>3</th>\n",
       "      <td>10859147</td>\n",
       "      <td>34.148863</td>\n",
       "      <td>-118.437206</td>\n",
       "    </tr>\n",
       "    <tr>\n",
       "      <th>4</th>\n",
       "      <td>10879947</td>\n",
       "      <td>34.194168</td>\n",
       "      <td>-118.385816</td>\n",
       "    </tr>\n",
       "  </tbody>\n",
       "</table>\n",
       "</div>"
      ],
      "text/plain": [
       "   parcelid   latitude   longitude\n",
       "0  10754147  34.144442 -118.654084\n",
       "1  10759547  34.140430 -118.625364\n",
       "2  10843547  33.989359 -118.394633\n",
       "3  10859147  34.148863 -118.437206\n",
       "4  10879947  34.194168 -118.385816"
      ]
     },
     "execution_count": 10,
     "metadata": {},
     "output_type": "execute_result"
    }
   ],
   "source": [
    "file_path = os.path.join(data_dir, \"properties_2016.csv\")\n",
    "#  Latitude of the middle of the parcel multiplied by 10e6\n",
    "#  Longitude of the middle of the parcel multiplied by 10e6\n",
    "df_properties2016 = pd.read_csv(file_path, usecols = [\"parcelid\", \"latitude\", \"longitude\"])\n",
    "df_properties2016['latitude'] = df_properties2016['latitude'].apply(lambda x: x / 1e6)\n",
    "df_properties2016['longitude'] = df_properties2016['longitude'].apply(lambda x: x / 1e6)\n",
    "df_properties2016.head()"
   ]
  },
  {
   "cell_type": "code",
   "execution_count": 13,
   "metadata": {},
   "outputs": [],
   "source": [
    "output_file_path = os.path.join(data_dir, \"geo_2016.csv\")\n",
    "df_properties2016.to_csv(output_file_path, index = False)"
   ]
  },
  {
   "cell_type": "markdown",
   "metadata": {},
   "source": [
    "## 2017"
   ]
  },
  {
   "cell_type": "code",
   "execution_count": 15,
   "metadata": {},
   "outputs": [
    {
     "data": {
      "text/html": [
       "<div>\n",
       "<style scoped>\n",
       "    .dataframe tbody tr th:only-of-type {\n",
       "        vertical-align: middle;\n",
       "    }\n",
       "\n",
       "    .dataframe tbody tr th {\n",
       "        vertical-align: top;\n",
       "    }\n",
       "\n",
       "    .dataframe thead th {\n",
       "        text-align: right;\n",
       "    }\n",
       "</style>\n",
       "<table border=\"1\" class=\"dataframe\">\n",
       "  <thead>\n",
       "    <tr style=\"text-align: right;\">\n",
       "      <th></th>\n",
       "      <th>parcelid</th>\n",
       "      <th>latitude</th>\n",
       "      <th>longitude</th>\n",
       "    </tr>\n",
       "  </thead>\n",
       "  <tbody>\n",
       "    <tr>\n",
       "      <th>0</th>\n",
       "      <td>10754147</td>\n",
       "      <td>34.144442</td>\n",
       "      <td>-118.654084</td>\n",
       "    </tr>\n",
       "    <tr>\n",
       "      <th>1</th>\n",
       "      <td>10759547</td>\n",
       "      <td>34.140430</td>\n",
       "      <td>-118.625364</td>\n",
       "    </tr>\n",
       "    <tr>\n",
       "      <th>2</th>\n",
       "      <td>10843547</td>\n",
       "      <td>33.989359</td>\n",
       "      <td>-118.394633</td>\n",
       "    </tr>\n",
       "    <tr>\n",
       "      <th>3</th>\n",
       "      <td>10859147</td>\n",
       "      <td>34.148863</td>\n",
       "      <td>-118.437206</td>\n",
       "    </tr>\n",
       "    <tr>\n",
       "      <th>4</th>\n",
       "      <td>10879947</td>\n",
       "      <td>34.194168</td>\n",
       "      <td>-118.385816</td>\n",
       "    </tr>\n",
       "  </tbody>\n",
       "</table>\n",
       "</div>"
      ],
      "text/plain": [
       "   parcelid   latitude   longitude\n",
       "0  10754147  34.144442 -118.654084\n",
       "1  10759547  34.140430 -118.625364\n",
       "2  10843547  33.989359 -118.394633\n",
       "3  10859147  34.148863 -118.437206\n",
       "4  10879947  34.194168 -118.385816"
      ]
     },
     "execution_count": 15,
     "metadata": {},
     "output_type": "execute_result"
    }
   ],
   "source": [
    "file_path = os.path.join(data_dir, \"properties_2017.csv\")\n",
    "#  Latitude of the middle of the parcel multiplied by 10e6\n",
    "#  Longitude of the middle of the parcel multiplied by 10e6\n",
    "df_properties2017 = pd.read_csv(file_path, usecols = [\"parcelid\", \"latitude\", \"longitude\"])\n",
    "df_properties2017['latitude'] = df_properties2017['latitude'].apply(lambda x: x / 1e6)\n",
    "df_properties2017['longitude'] = df_properties2017['longitude'].apply(lambda x: x / 1e6)\n",
    "df_properties2017.head()"
   ]
  },
  {
   "cell_type": "code",
   "execution_count": 16,
   "metadata": {},
   "outputs": [],
   "source": [
    "output_file_path = os.path.join(data_dir, \"geo_2017.csv\")\n",
    "df_properties2017.to_csv(output_file_path, index = False)"
   ]
  },
  {
   "cell_type": "code",
   "execution_count": null,
   "metadata": {},
   "outputs": [],
   "source": []
  }
 ],
 "metadata": {
  "kernelspec": {
   "display_name": "Python 3",
   "language": "python",
   "name": "python3"
  },
  "language_info": {
   "codemirror_mode": {
    "name": "ipython",
    "version": 3
   },
   "file_extension": ".py",
   "mimetype": "text/x-python",
   "name": "python",
   "nbconvert_exporter": "python",
   "pygments_lexer": "ipython3",
   "version": "3.6.6"
  }
 },
 "nbformat": 4,
 "nbformat_minor": 2
}

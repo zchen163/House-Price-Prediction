{
 "cells": [
  {
   "cell_type": "markdown",
   "metadata": {},
   "source": [
    "# import modules"
   ]
  },
  {
   "cell_type": "code",
   "execution_count": 1,
   "metadata": {},
   "outputs": [],
   "source": [
    "import pandas as pd\n",
    "import numpy as np\n",
    "import matplotlib.pyplot as plt\n",
    "from sklearn.model_selection import train_test_split,cross_val_score\n",
    "from sklearn.metrics import accuracy_score\n",
    "from sklearn.tree import DecisionTreeClassifier\n",
    "from sklearn.preprocessing import StandardScaler\n",
    "import seaborn as sns"
   ]
  },
  {
   "cell_type": "markdown",
   "metadata": {},
   "source": [
    "# read training data and pre-processing"
   ]
  },
  {
   "cell_type": "code",
   "execution_count": 2,
   "metadata": {},
   "outputs": [
    {
     "name": "stdout",
     "output_type": "stream",
     "text": [
      "Index(['parcelid', 'bathroomcnt', 'bedroomcnt', 'calculatedfinishedsquarefeet',\n",
      "       'latitude', 'longitude', 'lotsizesquarefeet',\n",
      "       'propertycountylandusecode', 'propertyzoningdesc',\n",
      "       'rawcensustractandblock', 'regionidcity', 'regionidzip', 'roomcnt',\n",
      "       'yearbuilt', 'taxvaluedollarcnt', 'censustractandblock', 'heating1',\n",
      "       'heating2', 'heating3', 'quality1', 'quality2', 'quality3', 'quality4',\n",
      "       'last_sold_date', 'last_sold_price', 'Year'],\n",
      "      dtype='object')\n",
      "[[ 3.00000000e+00  3.00000000e+00  1.96800000e+03  3.41254370e+07\n",
      "  -1.17781866e+08  9.64500000e+03  6.03740021e+07  3.93080000e+04\n",
      "   9.64940000e+04  0.00000000e+00  1.96500000e+03  3.35682000e+05\n",
      "   6.03740000e+13  1.00000000e+00  0.00000000e+00  0.00000000e+00\n",
      "   0.00000000e+00  1.00000000e+00  0.00000000e+00  0.00000000e+00\n",
      "   2.00400000e+03]\n",
      " [ 2.00000000e+00  4.00000000e+00  1.69900000e+03  3.41835210e+07\n",
      "  -1.18556876e+08  6.69100000e+03  6.03713490e+07  1.24470000e+04\n",
      "   9.63640000e+04  0.00000000e+00  1.95600000e+03  6.06888000e+05\n",
      "   6.03713000e+13  1.00000000e+00  0.00000000e+00  0.00000000e+00\n",
      "   0.00000000e+00  0.00000000e+00  1.00000000e+00  0.00000000e+00\n",
      "   2.00300000e+03]\n",
      " [ 1.00000000e+00  3.00000000e+00  1.12200000e+03  3.39025680e+07\n",
      "  -1.18120268e+08  5.53100000e+03  6.03755320e+07  4.41160000e+04\n",
      "   9.62080000e+04  0.00000000e+00  1.95300000e+03  4.18000000e+05\n",
      "   6.03755000e+13  0.00000000e+00  0.00000000e+00  1.00000000e+00\n",
      "   0.00000000e+00  0.00000000e+00  1.00000000e+00  0.00000000e+00\n",
      "   1.99400000e+03]\n",
      " [ 3.00000000e+00  4.00000000e+00  3.53300000e+03  3.39465210e+07\n",
      "  -1.17931093e+08  4.63180000e+04  6.03750010e+07  1.88750000e+04\n",
      "   9.61860000e+04  0.00000000e+00  1.98800000e+03  9.61762000e+05\n",
      "   6.03750000e+13  1.00000000e+00  0.00000000e+00  0.00000000e+00\n",
      "   1.00000000e+00  0.00000000e+00  0.00000000e+00  0.00000000e+00\n",
      "   2.00300000e+03]\n",
      " [ 2.00000000e+00  4.00000000e+00  1.70400000e+03  3.39948150e+07\n",
      "  -1.17813382e+08  6.97300000e+03  6.03740332e+07  2.43840000e+04\n",
      "   9.65050000e+04  0.00000000e+00  1.97700000e+03  5.97295000e+05\n",
      "   6.03740000e+13  1.00000000e+00  0.00000000e+00  0.00000000e+00\n",
      "   0.00000000e+00  1.00000000e+00  0.00000000e+00  0.00000000e+00\n",
      "   2.01100000e+03]]\n",
      "545000\n",
      "[[ 7.67763944e-01 -2.32401676e-01  1.63312451e-01 -7.02076525e-02\n",
      "   2.04588247e+00 -2.88175800e-02 -2.52611369e-01  7.70033508e-02\n",
      "  -4.72953204e-03  0.00000000e+00  2.88823624e-01 -1.68680443e-01\n",
      "  -1.60820450e-01  7.65609523e-01  0.00000000e+00 -7.43696359e-01\n",
      "  -1.71023957e-01  1.31529232e+00 -1.17688432e+00 -1.50708228e-01\n",
      "  -1.96132164e-01]\n",
      " [-1.95700308e-01  8.36945135e-01 -1.17397130e-01  1.65461660e-01\n",
      "  -1.46189785e+00 -5.33521859e-02 -1.24940229e+00 -3.82595396e-01\n",
      "  -2.80721356e-02  0.00000000e+00 -1.05875173e-01  2.33997962e-01\n",
      "  -7.69683615e-01  7.65609523e-01  0.00000000e+00 -7.43696359e-01\n",
      "  -1.71023957e-01 -7.60287264e-01  8.49701183e-01 -1.50708228e-01\n",
      "  -3.00184948e-01]\n",
      " [-1.15916456e+00 -2.32401676e-01 -7.19513963e-01 -9.74473613e-01\n",
      "   5.14237877e-01 -6.29866283e-02  3.22208009e-01  1.59269490e-01\n",
      "  -5.60832600e-02  0.00000000e+00 -2.37441438e-01 -4.64571848e-02\n",
      "   1.77436864e-01 -1.30614885e+00  0.00000000e+00  1.34463479e+00\n",
      "  -1.71023957e-01 -7.60287264e-01  8.49701183e-01 -1.50708228e-01\n",
      "  -1.23666001e+00]\n",
      " [ 7.67763944e-01  8.36945135e-01  1.79643697e+00 -7.96139247e-01\n",
      "   1.37046469e+00  2.75771993e-01  1.22700291e-01 -2.72610632e-01\n",
      "  -6.00335467e-02  0.00000000e+00  1.29749833e+00  7.60904065e-01\n",
      "   6.46844262e-02  7.65609523e-01  0.00000000e+00 -7.43696359e-01\n",
      "   5.84713403e+00 -7.60287264e-01 -1.17688432e+00 -1.50708228e-01\n",
      "  -3.00184948e-01]\n",
      " [-1.95700308e-01  8.36945135e-01 -1.12179479e-01 -6.00191761e-01\n",
      "   1.90323759e+00 -5.10100197e-02 -2.40900374e-01 -1.78350199e-01\n",
      "  -2.75438865e-03  0.00000000e+00  8.15088687e-01  2.19754568e-01\n",
      "  -1.60820450e-01  7.65609523e-01  0.00000000e+00 -7.43696359e-01\n",
      "  -1.71023957e-01  1.31529232e+00 -1.17688432e+00 -1.50708228e-01\n",
      "   5.32237326e-01]]\n"
     ]
    },
    {
     "name": "stderr",
     "output_type": "stream",
     "text": [
      "c:\\users\\jinjun liu\\appdata\\local\\programs\\python\\python37\\lib\\site-packages\\ipykernel_launcher.py:6: SettingWithCopyWarning: \n",
      "A value is trying to be set on a copy of a slice from a DataFrame.\n",
      "Try using .loc[row_indexer,col_indexer] = value instead\n",
      "\n",
      "See the caveats in the documentation: http://pandas.pydata.org/pandas-docs/stable/indexing.html#indexing-view-versus-copy\n",
      "  \n"
     ]
    }
   ],
   "source": [
    "rawData = pd.read_csv('2016_properties_60000v2_train_withFilteredPrice.csv')\n",
    "trainData = rawData.dropna()\n",
    "\n",
    "yearList = [d.split('/')[2] for d in trainData.last_sold_date]\n",
    "\n",
    "trainData['Year']=[int(i) for i in yearList]\n",
    "#trainData['propertycountylandusecode'] = [int(i) for i in trainData.propertycountylandusecode]\n",
    "\n",
    "print(trainData.columns)\n",
    "\n",
    "X1 = trainData[['bathroomcnt', 'bedroomcnt', 'calculatedfinishedsquarefeet',\n",
    "       'latitude', 'longitude', 'lotsizesquarefeet',\n",
    "       # 'propertycountylandusecode', 'propertyzoningdesc', \n",
    "                'rawcensustractandblock',\n",
    "       'regionidcity', 'regionidzip', 'roomcnt',\n",
    "       'yearbuilt', 'taxvaluedollarcnt', 'censustractandblock',\n",
    "       'heating1', 'heating2', 'heating3',\n",
    "       'quality1', 'quality2', 'quality3',\n",
    "       'quality4', 'Year']] # 23 attibutes in total\n",
    "\n",
    "X2 = X1.values\n",
    "\n",
    "Y = trainData['last_sold_price'].values\n",
    "\n",
    "print(X2[0:5])\n",
    "print(Y[0])\n",
    "\n",
    "scaler = StandardScaler()\n",
    "scaler.fit(X2)\n",
    "X = scaler.transform(X2)\n",
    "print(X[0:5])"
   ]
  },
  {
   "cell_type": "markdown",
   "metadata": {},
   "source": [
    "# read testing data and pre-processing"
   ]
  },
  {
   "cell_type": "code",
   "execution_count": 3,
   "metadata": {},
   "outputs": [
    {
     "name": "stderr",
     "output_type": "stream",
     "text": [
      "c:\\users\\jinjun liu\\appdata\\local\\programs\\python\\python37\\lib\\site-packages\\ipykernel_launcher.py:6: SettingWithCopyWarning: \n",
      "A value is trying to be set on a copy of a slice from a DataFrame.\n",
      "Try using .loc[row_indexer,col_indexer] = value instead\n",
      "\n",
      "See the caveats in the documentation: http://pandas.pydata.org/pandas-docs/stable/indexing.html#indexing-view-versus-copy\n",
      "  \n"
     ]
    }
   ],
   "source": [
    "rawData_test = pd.read_csv('2016_properties_60000v2_test_withFilteredPrice.csv')\n",
    "testData = rawData_test.dropna()\n",
    "\n",
    "yearList_test = [d.split('/')[2] for d in testData.last_sold_date]\n",
    "\n",
    "testData['Year']=[int(i) for i in yearList_test]\n",
    "\n",
    "X1_test = testData[['bathroomcnt', 'bedroomcnt', 'calculatedfinishedsquarefeet',\n",
    "       'latitude', 'longitude', 'lotsizesquarefeet',\n",
    "       # 'propertycountylandusecode', 'propertyzoningdesc', \n",
    "                'rawcensustractandblock',\n",
    "       'regionidcity', 'regionidzip', 'roomcnt',\n",
    "       'yearbuilt', 'taxvaluedollarcnt', 'censustractandblock',\n",
    "       'heating1', 'heating2', 'heating3',\n",
    "       'quality1', 'quality2', 'quality3',\n",
    "       'quality4', 'Year']] # 23 attibutes in total\n",
    "\n",
    "X2_test = X1_test.values\n",
    "\n",
    "Y_test = testData['last_sold_price'].values\n",
    "\n",
    "scaler = StandardScaler()\n",
    "scaler.fit(X2_test)\n",
    "X_test = scaler.transform(X2_test)"
   ]
  },
  {
   "cell_type": "markdown",
   "metadata": {},
   "source": [
    "# Decision Tree"
   ]
  },
  {
   "cell_type": "code",
   "execution_count": 6,
   "metadata": {},
   "outputs": [
    {
     "name": "stdout",
     "output_type": "stream",
     "text": [
      "done\n"
     ]
    }
   ],
   "source": [
    "mae = []\n",
    "for n in range(3,21):\n",
    "    # n is decision tree max depth\n",
    "    scoreTrain = []\n",
    "    scoreTest = []\n",
    "    #for i in range(20, 80, 20):\n",
    "    tree = DecisionTreeClassifier(criterion='entropy', max_depth=n, random_state=0)\n",
    "    #X_train, X_test, y_train, y_test = train_test_split(X, Y, random_state=0, test_size=1-i/100.0)\n",
    "    tree = tree.fit(X, Y)\n",
    "    train_predict = tree.predict(X)\n",
    "    test_predict = tree.predict(X_test)\n",
    "    \n",
    "    logerror = np.log(test_predict) - np.log(Y_test)\n",
    "    \n",
    "    ny = len(Y_test)\n",
    "    mae1 = 0.\n",
    "    for k in range(ny):\n",
    "        mae1 = mae1 + abs(test_predict[k] - Y_test[k])\n",
    "        \n",
    "    mae1= mae1/ny\n",
    "    mae.append(mae1)\n",
    "    \n",
    "    #print(logerror[0:10])\n",
    "print(\"done\")\n",
    "    \n",
    "    #scoreTrain.append(accuracy_score(Y, train_predict))\n",
    "    #scoreTest.append(accuracy_score(y_test, test_predict))\n",
    "    #print(i)\n",
    "    \n",
    "    #p1, = plt.plot([j/100.0 for j in range(20, 80, 20)], scoreTrain, 'b-')\n",
    "    #p2, = plt.plot([j/100.0 for j in range(20, 80, 20)], scoreTest, 'r-')\n",
    "    #plt.legend([p1,p2],['training','test'],loc='lower right')\n",
    "    #plt.xlabel('Proportion of Training Data')\n",
    "    #plt.ylabel('Acurracy')\n",
    "    #plt.title('Accuracy vs Proportion of Training Data (Max depth = %d)'%n)\n",
    "    #plt.show()"
   ]
  },
  {
   "cell_type": "code",
   "execution_count": 7,
   "metadata": {},
   "outputs": [
    {
     "data": {
      "image/png": "[encoded data removed]",
      "text/plain": [
       "<Figure size 432x288 with 1 Axes>"
      ]
     },
     "metadata": {
      "needs_background": "light"
     },
     "output_type": "display_data"
    }
   ],
   "source": [
    "plt.plot(range(3,21), mae, 'bo')\n",
    "#plt.legend([p1, p2], ['KNN accuracy', 'cross validation accuracy'], loc='lower right')\n",
    "plt.xlabel('Max Depth')\n",
    "plt.ylabel('Mean absolute error (USD)')\n",
    "plt.title('MAE vs Max depth of decision tree')\n",
    "plt.show()"
   ]
  },
  {
   "cell_type": "code",
   "execution_count": 10,
   "metadata": {},
   "outputs": [],
   "source": [
    "n = 8\n",
    "# n is decision tree max depth\n",
    "scoreTrain = []\n",
    "scoreTest = []\n",
    "#for i in range(20, 80, 20):\n",
    "tree = DecisionTreeClassifier(criterion='entropy', max_depth=n, random_state=0)\n",
    "#X_train, X_test, y_train, y_test = train_test_split(X, Y, random_state=0, test_size=1-i/100.0)\n",
    "tree = tree.fit(X, Y)\n",
    "train_predict = tree.predict(X)\n",
    "test_predict = tree.predict(X_test)\n",
    "    \n",
    "logerror = np.log(test_predict) - np.log(Y_test)"
   ]
  },
  {
   "cell_type": "markdown",
   "metadata": {},
   "source": [
    "# visualization"
   ]
  },
  {
   "cell_type": "code",
   "execution_count": 11,
   "metadata": {},
   "outputs": [
    {
     "data": {
      "image/png": "[encoded data removed]",
      "text/plain": [
       "<Figure size 864x576 with 1 Axes>"
      ]
     },
     "metadata": {
      "needs_background": "light"
     },
     "output_type": "display_data"
    }
   ],
   "source": [
    "plt.figure(figsize=(12,8))\n",
    "sns.distplot(logerror , bins=50, kde=True)\n",
    "plt.xlabel('logerror', fontsize=12)\n",
    "plt.show()"
   ]
  },
  {
   "cell_type": "code",
   "execution_count": null,
   "metadata": {},
   "outputs": [],
   "source": []
  }
 ],
 "metadata": {
  "kernelspec": {
   "display_name": "Python 3",
   "language": "python",
   "name": "python3"
  },
  "language_info": {
   "codemirror_mode": {
    "name": "ipython",
    "version": 3
   },
   "file_extension": ".py",
   "mimetype": "text/x-python",
   "name": "python",
   "nbconvert_exporter": "python",
   "pygments_lexer": "ipython3",
   "version": "3.7.2"
  }
 },
 "nbformat": 4,
 "nbformat_minor": 2
}
